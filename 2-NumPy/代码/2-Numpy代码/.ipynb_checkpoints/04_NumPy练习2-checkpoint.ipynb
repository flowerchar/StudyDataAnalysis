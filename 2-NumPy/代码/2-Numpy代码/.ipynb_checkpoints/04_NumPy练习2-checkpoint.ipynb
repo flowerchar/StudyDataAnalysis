{
 "cells": [
  {
   "cell_type": "markdown",
   "metadata": {},
   "source": [
    "### NumPy练习题2\n"
   ]
  },
  {
   "cell_type": "code",
   "execution_count": 3,
   "metadata": {},
   "outputs": [],
   "source": [
    "import numpy as np"
   ]
  },
  {
   "cell_type": "markdown",
   "metadata": {},
   "source": [
    "1、给定一个4维矩阵，如何得到最后两维的和？\n"
   ]
  },
  {
   "cell_type": "code",
   "execution_count": 5,
   "metadata": {},
   "outputs": [
    {
     "data": {
      "text/plain": [
       "array([[86, 90, 85],\n",
       "       [88, 88, 80]])"
      ]
     },
     "execution_count": 5,
     "metadata": {},
     "output_type": "execute_result"
    }
   ],
   "source": [
    "n = np.random.randint(0, 10, size=(2, 3, 4, 5))\n",
    "n\n",
    "n.sum(axis=(2, 3))  \n",
    "# 第1个维度是axis=0\n",
    "# 第2个维度是axis=1\n",
    "# 第3个维度是axis=2\n",
    "# 第4个维度是axis=3"
   ]
  },
  {
   "cell_type": "markdown",
   "metadata": {},
   "source": [
    "2、给定数组[1, 2, 3, 4, 5]，如何得到在这个数组的每个元素之间插入3个0后的新数组？\n"
   ]
  },
  {
   "cell_type": "code",
   "execution_count": 9,
   "metadata": {},
   "outputs": [
    {
     "data": {
      "text/plain": [
       "array([1, 0, 0, 0, 2, 0, 0, 0, 3, 0, 0, 0, 4, 0, 0, 0, 5], dtype=int16)"
      ]
     },
     "execution_count": 9,
     "metadata": {},
     "output_type": "execute_result"
    }
   ],
   "source": [
    "n = np.arange(1, 6)\n",
    "n2 = np.zeros(17, dtype=np.int16)\n",
    "n2[ : : 4] = n\n",
    "n2"
   ]
  },
  {
   "cell_type": "markdown",
   "metadata": {},
   "source": [
    "3、给定一个二维矩阵，如何交换其中两行的元素？\n"
   ]
  },
  {
   "cell_type": "code",
   "execution_count": 14,
   "metadata": {},
   "outputs": [
    {
     "data": {
      "text/plain": [
       "array([[7, 6, 8, 6],\n",
       "       [3, 6, 4, 4],\n",
       "       [8, 8, 3, 4],\n",
       "       [3, 4, 0, 2]])"
      ]
     },
     "metadata": {},
     "output_type": "display_data"
    },
    {
     "data": {
      "text/plain": [
       "array([[3, 6, 4, 4],\n",
       "       [7, 6, 8, 6],\n",
       "       [8, 8, 3, 4],\n",
       "       [3, 4, 0, 2]])"
      ]
     },
     "metadata": {},
     "output_type": "display_data"
    }
   ],
   "source": [
    "n = np.random.randint(0, 10, size=(4, 4))\n",
    "display(n)\n",
    "\n",
    "# 可以利用索引交换行\n",
    "n2 = n[[1, 0, 2, 3]]\n",
    "display(n2)"
   ]
  },
  {
   "cell_type": "markdown",
   "metadata": {},
   "source": [
    "4、创建一个100000长度的随机数组，使用两种方法对其求三次方，并比较所用时间\n"
   ]
  },
  {
   "cell_type": "code",
   "execution_count": 17,
   "metadata": {
    "scrolled": true
   },
   "outputs": [
    {
     "name": "stdout",
     "output_type": "stream",
     "text": [
      "299 µs ± 2.6 µs per loop (mean ± std. dev. of 7 runs, 1000 loops each)\n"
     ]
    }
   ],
   "source": [
    "n = np.random.randint(0, 10, size=100000)\n",
    "# display(n)\n",
    "\n",
    "%timeit np.power(n, 3)"
   ]
  },
  {
   "cell_type": "code",
   "execution_count": 18,
   "metadata": {},
   "outputs": [
    {
     "name": "stdout",
     "output_type": "stream",
     "text": [
      "312 µs ± 16.7 µs per loop (mean ± std. dev. of 7 runs, 1000 loops each)\n"
     ]
    }
   ],
   "source": [
    "%timeit n**3"
   ]
  },
  {
   "cell_type": "markdown",
   "metadata": {},
   "source": [
    "5、创建一个5 * 3随机矩阵和一个3 * 2随机矩阵，求矩阵积\n"
   ]
  },
  {
   "cell_type": "code",
   "execution_count": 19,
   "metadata": {},
   "outputs": [
    {
     "data": {
      "text/plain": [
       "array([[ 9897,  8924],\n",
       "       [13383, 12856],\n",
       "       [ 6845,  3792],\n",
       "       [ 7305,  7240],\n",
       "       [ 7423,  4584]])"
      ]
     },
     "execution_count": 19,
     "metadata": {},
     "output_type": "execute_result"
    }
   ],
   "source": [
    "n1 = np.random.randint(0, 100, size=(5, 3))\n",
    "n2 = np.random.randint(0, 100, size=(3, 2))\n",
    "np.dot(n1, n2)"
   ]
  },
  {
   "cell_type": "markdown",
   "metadata": {},
   "source": [
    "6、矩阵的每一行的元素都减去该行的平均值\n"
   ]
  },
  {
   "cell_type": "code",
   "execution_count": 26,
   "metadata": {},
   "outputs": [
    {
     "data": {
      "text/plain": [
       "array([[9, 6, 6, 0],\n",
       "       [2, 4, 6, 9],\n",
       "       [0, 8, 3, 4]])"
      ]
     },
     "metadata": {},
     "output_type": "display_data"
    },
    {
     "data": {
      "text/plain": [
       "array([[5.25],\n",
       "       [5.25],\n",
       "       [3.75]])"
      ]
     },
     "metadata": {},
     "output_type": "display_data"
    },
    {
     "data": {
      "text/plain": [
       "array([[ 3.75,  0.75,  0.75, -5.25],\n",
       "       [-3.25, -1.25,  0.75,  3.75],\n",
       "       [-3.75,  4.25, -0.75,  0.25]])"
      ]
     },
     "execution_count": 26,
     "metadata": {},
     "output_type": "execute_result"
    }
   ],
   "source": [
    "n = np.random.randint(0, 10, size=(3, 4))\n",
    "display(n)\n",
    "\n",
    "n2 = n.mean(axis=1).reshape(3, 1)\n",
    "display(n2)\n",
    "\n",
    "n - n2"
   ]
  },
  {
   "cell_type": "markdown",
   "metadata": {},
   "source": [
    "7、打印出以下矩阵（要求使用np.zeros创建8*8的矩阵）：\n",
    "\n",
    "`\n",
    "[[0 1 0 1 0 1 0 1]\n",
    " [1 0 1 0 1 0 1 0]\n",
    " [0 1 0 1 0 1 0 1]\n",
    " [1 0 1 0 1 0 1 0]\n",
    " [0 1 0 1 0 1 0 1]\n",
    " [1 0 1 0 1 0 1 0]\n",
    " [0 1 0 1 0 1 0 1]\n",
    " [1 0 1 0 1 0 1 0]]\n",
    "`"
   ]
  },
  {
   "cell_type": "code",
   "execution_count": 33,
   "metadata": {},
   "outputs": [
    {
     "data": {
      "text/plain": [
       "array([[0, 1, 0, 1, 0, 1, 0, 1],\n",
       "       [1, 0, 1, 0, 1, 0, 1, 0],\n",
       "       [0, 1, 0, 1, 0, 1, 0, 1],\n",
       "       [1, 0, 1, 0, 1, 0, 1, 0],\n",
       "       [0, 1, 0, 1, 0, 1, 0, 1],\n",
       "       [1, 0, 1, 0, 1, 0, 1, 0],\n",
       "       [0, 1, 0, 1, 0, 1, 0, 1],\n",
       "       [1, 0, 1, 0, 1, 0, 1, 0]])"
      ]
     },
     "execution_count": 33,
     "metadata": {},
     "output_type": "execute_result"
    }
   ],
   "source": [
    "n = np.zeros((8, 8), dtype=int)\n",
    "n[::2, 1::2] = 1\n",
    "n[1::2, ::2] = 1\n",
    "n"
   ]
  },
  {
   "cell_type": "markdown",
   "metadata": {},
   "source": [
    "8、正则化一个5*5随机矩阵\n",
    "- 正则的概念：假设a是矩阵中的一个元素，max/min分别是矩阵元素的最大最小值，则正则化后a = (a - min)/(max - min)\n"
   ]
  },
  {
   "cell_type": "code",
   "execution_count": 34,
   "metadata": {
    "scrolled": true
   },
   "outputs": [
    {
     "data": {
      "text/plain": [
       "array([[99, 20, 42, 65, 67],\n",
       "       [87, 43, 88, 22,  6],\n",
       "       [65, 78, 29, 19, 37],\n",
       "       [ 7, 60, 29, 84, 15],\n",
       "       [83, 39, 36, 76, 94]])"
      ]
     },
     "metadata": {},
     "output_type": "display_data"
    }
   ],
   "source": [
    "n = np.random.randint(0, 100, size=(5, 5))\n",
    "display(n)"
   ]
  },
  {
   "cell_type": "code",
   "execution_count": 36,
   "metadata": {},
   "outputs": [
    {
     "data": {
      "text/plain": [
       "(6, 99)"
      ]
     },
     "execution_count": 36,
     "metadata": {},
     "output_type": "execute_result"
    }
   ],
   "source": [
    "min1 = n.min()\n",
    "max1 = n.max()\n",
    "min1, max1"
   ]
  },
  {
   "cell_type": "code",
   "execution_count": 37,
   "metadata": {},
   "outputs": [
    {
     "data": {
      "text/plain": [
       "array([[1.        , 0.15053763, 0.38709677, 0.6344086 , 0.65591398],\n",
       "       [0.87096774, 0.39784946, 0.88172043, 0.17204301, 0.        ],\n",
       "       [0.6344086 , 0.77419355, 0.24731183, 0.13978495, 0.33333333],\n",
       "       [0.01075269, 0.58064516, 0.24731183, 0.83870968, 0.09677419],\n",
       "       [0.82795699, 0.35483871, 0.32258065, 0.75268817, 0.94623656]])"
      ]
     },
     "execution_count": 37,
     "metadata": {},
     "output_type": "execute_result"
    }
   ],
   "source": [
    "# 正则化后a = (a - min)/(max - min)\n",
    "# 归一化: 0~1之间\n",
    "(n - min1) / (max1 - min1)"
   ]
  }
 ],
 "metadata": {
  "kernelspec": {
   "display_name": "Python 3",
   "language": "python",
   "name": "python3"
  },
  "language_info": {
   "codemirror_mode": {
    "name": "ipython",
    "version": 3
   },
   "file_extension": ".py",
   "mimetype": "text/x-python",
   "name": "python",
   "nbconvert_exporter": "python",
   "pygments_lexer": "ipython3",
   "version": "3.9.0"
  }
 },
 "nbformat": 4,
 "nbformat_minor": 2
}
