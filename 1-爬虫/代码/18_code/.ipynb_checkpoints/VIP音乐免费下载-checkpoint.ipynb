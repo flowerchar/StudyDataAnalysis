{
 "cells": [
  {
   "cell_type": "code",
   "execution_count": 1,
   "id": "950b38e6",
   "metadata": {},
   "outputs": [],
   "source": [
    "import requests"
   ]
  },
  {
   "cell_type": "code",
   "execution_count": 3,
   "id": "e3ef0112",
   "metadata": {},
   "outputs": [],
   "source": [
    "headers = {\n",
    "    \"user-agent\": \"Mozilla/5.0 (Windows NT 10.0; WOW64) AppleWebKit/537.36 (KHTML, like Gecko) Chrome/107.0.0.0 Safari/537.36\"\n",
    "}"
   ]
  },
  {
   "cell_type": "code",
   "execution_count": 5,
   "id": "4ac37365",
   "metadata": {},
   "outputs": [],
   "source": [
    "url_base = \"https://kuwo.cn/api/v1/www/music/playUrl?mid=%s&type=mp3&httpsStatus=1&reqId=0e593d71-7ea0-11ed-b9a1-27392b746403\""
   ]
  },
  {
   "cell_type": "code",
   "execution_count": 8,
   "id": "abfd139c",
   "metadata": {},
   "outputs": [],
   "source": [
    "mid = \"228908\""
   ]
  },
  {
   "cell_type": "code",
   "execution_count": 9,
   "id": "4bbeedf1",
   "metadata": {},
   "outputs": [],
   "source": [
    "url = url_base % mid"
   ]
  },
  {
   "cell_type": "code",
   "execution_count": 10,
   "id": "a8459d5c",
   "metadata": {},
   "outputs": [],
   "source": [
    "response = requests.get(url, headers=headers)"
   ]
  },
  {
   "cell_type": "code",
   "execution_count": 12,
   "id": "4f612dbc",
   "metadata": {},
   "outputs": [],
   "source": [
    "result = response.json()"
   ]
  },
  {
   "cell_type": "code",
   "execution_count": 13,
   "id": "4d5e3e9f",
   "metadata": {},
   "outputs": [
    {
     "data": {
      "text/plain": [
       "{'code': 200,\n",
       " 'msg': 'success',\n",
       " 'reqId': 'e24fcfc50815511f93aec9969a7c29ae',\n",
       " 'data': {'url': 'https://sy-sycdn.kuwo.cn/8df1cf05ab06bfff8afb570e2790d147/639eb9be/resource/n1/84/19/2974502628.mp3'},\n",
       " 'profileId': 'site',\n",
       " 'curTime': 1671346880162,\n",
       " 'success': True}"
      ]
     },
     "execution_count": 13,
     "metadata": {},
     "output_type": "execute_result"
    }
   ],
   "source": [
    "result"
   ]
  },
  {
   "cell_type": "code",
   "execution_count": 14,
   "id": "0311f589",
   "metadata": {},
   "outputs": [],
   "source": [
    "play_url = result.get(\"data\").get(\"url\")"
   ]
  },
  {
   "cell_type": "code",
   "execution_count": 15,
   "id": "014daf8a",
   "metadata": {},
   "outputs": [
    {
     "data": {
      "text/plain": [
       "'https://sy-sycdn.kuwo.cn/8df1cf05ab06bfff8afb570e2790d147/639eb9be/resource/n1/84/19/2974502628.mp3'"
      ]
     },
     "execution_count": 15,
     "metadata": {},
     "output_type": "execute_result"
    }
   ],
   "source": [
    "play_url"
   ]
  },
  {
   "cell_type": "code",
   "execution_count": 16,
   "id": "ff187ade",
   "metadata": {},
   "outputs": [],
   "source": [
    "response_music = requests.get(play_url, headers=headers)"
   ]
  },
  {
   "cell_type": "code",
   "execution_count": 17,
   "id": "79a39f6b",
   "metadata": {},
   "outputs": [],
   "source": [
    "with open(\"晴天.mp3\", \"wb\") as file:\n",
    "    file.write(response_music.content)"
   ]
  },
  {
   "cell_type": "markdown",
   "id": "50017b89",
   "metadata": {},
   "source": [
    "### 封装成一个函数"
   ]
  },
  {
   "cell_type": "code",
   "execution_count": 18,
   "id": "75731232",
   "metadata": {},
   "outputs": [],
   "source": [
    "def download_music(music_id, music_name):\n",
    "    headers = {\n",
    "        \"user-agent\": \"Mozilla/5.0 (Windows NT 10.0; WOW64) AppleWebKit/537.36 (KHTML, like Gecko) Chrome/107.0.0.0 Safari/537.36\"\n",
    "    }\n",
    "\n",
    "    url_base = \"https://kuwo.cn/api/v1/www/music/playUrl?mid=%s&type=mp3&httpsStatus=1&reqId=0e593d71-7ea0-11ed-b9a1-27392b746403\"\n",
    "\n",
    "    url = url_base % music_id\n",
    "\n",
    "    response = requests.get(url, headers=headers)\n",
    "\n",
    "    result = response.json()\n",
    "\n",
    "    play_url = result.get(\"data\").get(\"url\")\n",
    "\n",
    "    response_music = requests.get(play_url, headers=headers)\n",
    "\n",
    "    with open(\"%s.mp3\" % music_name, \"wb\") as file:\n",
    "        file.write(response_music.content)"
   ]
  },
  {
   "cell_type": "code",
   "execution_count": 20,
   "id": "494324dd",
   "metadata": {},
   "outputs": [],
   "source": [
    "download_music(\"118980\", \"夜曲\")"
   ]
  }
 ],
 "metadata": {
  "kernelspec": {
   "display_name": "Python 3",
   "language": "python",
   "name": "python3"
  },
  "language_info": {
   "codemirror_mode": {
    "name": "ipython",
    "version": 3
   },
   "file_extension": ".py",
   "mimetype": "text/x-python",
   "name": "python",
   "nbconvert_exporter": "python",
   "pygments_lexer": "ipython3",
   "version": "3.9.0"
  }
 },
 "nbformat": 4,
 "nbformat_minor": 5
}
