{
 "cells": [
  {
   "cell_type": "code",
   "execution_count": 1,
   "id": "aa538d30",
   "metadata": {},
   "outputs": [
    {
     "name": "stdout",
     "output_type": "stream",
     "text": [
      "Looking in indexes: https://pypi.doubanio.com/simple\n",
      "Requirement already satisfied: lxml in c:\\users\\dell\\appdata\\local\\programs\\python\\python39\\lib\\site-packages (4.6.2)\n"
     ]
    }
   ],
   "source": [
    "!pip install lxml"
   ]
  },
  {
   "cell_type": "code",
   "execution_count": 2,
   "id": "7c174cc3",
   "metadata": {},
   "outputs": [],
   "source": [
    "import requests"
   ]
  },
  {
   "cell_type": "code",
   "execution_count": 4,
   "id": "6a1f247a",
   "metadata": {},
   "outputs": [],
   "source": [
    "headers = {\n",
    "    \"user-agent\": \"Mozilla/5.0 (Windows NT 10.0; WOW64) AppleWebKit/537.36 (KHTML, like Gecko) Chrome/107.0.0.0 Safari/537.36\"\n",
    "}"
   ]
  },
  {
   "cell_type": "code",
   "execution_count": 3,
   "id": "d72a23f8",
   "metadata": {},
   "outputs": [],
   "source": [
    "url = \"https://www.xinpianchang.com/discover/article?from=navigator\""
   ]
  },
  {
   "cell_type": "code",
   "execution_count": 5,
   "id": "89b9e976",
   "metadata": {},
   "outputs": [],
   "source": [
    "response = requests.get(url, headers=headers)"
   ]
  },
  {
   "cell_type": "code",
   "execution_count": 6,
   "id": "2c9ea756",
   "metadata": {},
   "outputs": [
    {
     "data": {
      "text/plain": [
       "<Response [200]>"
      ]
     },
     "execution_count": 6,
     "metadata": {},
     "output_type": "execute_result"
    }
   ],
   "source": [
    "response"
   ]
  },
  {
   "cell_type": "markdown",
   "id": "63c41f17",
   "metadata": {},
   "source": [
    "### 构建xpath的对象"
   ]
  },
  {
   "cell_type": "code",
   "execution_count": 7,
   "id": "adff2e6a",
   "metadata": {},
   "outputs": [],
   "source": [
    "from lxml import etree"
   ]
  },
  {
   "cell_type": "code",
   "execution_count": 8,
   "id": "fbde8949",
   "metadata": {},
   "outputs": [],
   "source": [
    "tree = etree.HTML(response.text)"
   ]
  },
  {
   "cell_type": "markdown",
   "id": "fe6ad657",
   "metadata": {},
   "source": [
    "### 使用xpath规则进行提取"
   ]
  },
  {
   "cell_type": "code",
   "execution_count": 10,
   "id": "529b38a5",
   "metadata": {},
   "outputs": [],
   "source": [
    "elements = tree.xpath('//span[@class=\"truncate block\"]')"
   ]
  },
  {
   "cell_type": "code",
   "execution_count": 11,
   "id": "cb09952a",
   "metadata": {},
   "outputs": [],
   "source": [
    "ele = elements[0]"
   ]
  },
  {
   "cell_type": "code",
   "execution_count": 12,
   "id": "d76eb4c0",
   "metadata": {},
   "outputs": [
    {
     "data": {
      "text/plain": [
       "'胜加20年，转身看未来'"
      ]
     },
     "execution_count": 12,
     "metadata": {},
     "output_type": "execute_result"
    }
   ],
   "source": [
    "ele.text"
   ]
  },
  {
   "cell_type": "code",
   "execution_count": 13,
   "id": "09de5821",
   "metadata": {
    "collapsed": true
   },
   "outputs": [
    {
     "name": "stdout",
     "output_type": "stream",
     "text": [
      "胜加20年，转身看未来\n",
      "农夫山泉·茶派X陆仙人《从凡人走成仙人》\n",
      "COP15（2022）上海宣传片\n",
      "WeChat Pay | 小店自有力\n",
      "100多个白嫖资源网站，给你最全套的服务\n",
      "哔哩哔哩寻光计划特别纪录《寻光》\n",
      "你所见 即人间\n",
      "Achill-转转「我根本不关心中国足球」\n",
      "新西兰脑洞宣传！《来吧我的梦》\n",
      "抖音非遗项目TVC 千载不难逢\n",
      "仙都奇缘 | 文旅宣传片\n",
      "【干货向】三个小技巧，帮你选到完美配乐!\n",
      "The 3 BMW Launch DC\n",
      "下一站！世界杯决赛球场——卢塞尔球场\n",
      "一条网贷广告的诞生\n",
      "《新视界，新世界》 广视4K超高清视频征评\n",
      "不用画面，做个励志混剪\n",
      "FACEBOOK - Its Your World\n",
      "纵享丝滑！完美镜头《一顺到底》\n",
      "Film Pictures vol.1“晨雾”\n",
      "吉利汽车 创意广告 耗时40天 2022年7月\n",
      "Apple 冬日暖心广告《我是最棒的》\n",
      "滇西：连接万物的超级阶梯！ | 《围城随笔》旅行纪录片第9集\n",
      "日式广告的浪漫《一分钟的四季轮回》\n",
      "忘情一刻 I 小米13\n",
      "吉利几何 创意广告 耗时45天 2022年11月\n",
      "发现成都之美\n",
      "INCITY丨宁波鄞州印象城\n",
      "超温馨的风景人文短片《四季人生》\n",
      "最丧的2022年\n",
      "2.5D动画，2.5DMG动画，APP动画制作，互联网动画介绍\n",
      "总要去趟川西吧！「川西旅拍」我梦寐以求是真爱与自由\n",
      "圣诞微缩移轴摄影《小人国的上帝》\n",
      "世界杯短片电影《远征》\n",
      "度小满【放心去热爱】世界杯品牌TVC\n",
      "生活的交响\n",
      "SNL爆笑恶搞短片《当你阳了》\n",
      "必打卡！Lacoste经典广告《巨跃》\n",
      "挑战2小时\"单兵单灯单镜头\"完成TVC级咖啡短片【含幕后花絮】\n",
      "苏州城市宣传片\n",
      "【拉片干货】 |《聚无不胜》宣传片综合分析\n",
      "怎么提升你视频的B格？\n",
      "一叶子，纯净从不要开始（dir)\n",
      "vivo X90 撒贝宁&何同学\n",
      "伊利-为热爱上场-导演版\n",
      "累了，就回家吧！\n",
      "「分享」如何有效运用音效库剪辑质感广告？\n",
      "为什么《星际穿越》的配乐，你一听就想哭？【银屏系漫游指南】\n",
      "踢不烂的故事\n",
      "Apple广告《三分钟》 陈可辛导演 2018春节\n",
      "考研人都看哭了《那些奋斗的日子》\n",
      "keep x 中国青年报 ｜小手套暖冬公益短片《打雪仗》！\n",
      "央视宣传片《我是谁》\n",
      "这支短片真的太舒服了《圆圈》\n",
      "Woman's Life｜这是你的故事\n",
      "宝矿力一镜到底梦幻广告《逆向青春》\n",
      "同程网微电影《回家》\n",
      "疯狂小杨哥\n",
      "北京光影\n",
      "田园村居图丨用 Mavic 3 拍出一副中国水墨画\n"
     ]
    }
   ],
   "source": [
    "for element in elements:\n",
    "    print(element.text)"
   ]
  },
  {
   "cell_type": "code",
   "execution_count": 15,
   "id": "5e359d81",
   "metadata": {},
   "outputs": [
    {
     "data": {
      "text/plain": [
       "'8w'"
      ]
     },
     "execution_count": 15,
     "metadata": {},
     "output_type": "execute_result"
    }
   ],
   "source": [
    "tree.xpath('//*[@id=\"__next\"]/section/main/div/div/div/div/a/div/div/div/span')[0].text"
   ]
  },
  {
   "cell_type": "code",
   "execution_count": 17,
   "id": "2fb3ef8b",
   "metadata": {},
   "outputs": [
    {
     "data": {
      "text/plain": [
       "60"
      ]
     },
     "execution_count": 17,
     "metadata": {},
     "output_type": "execute_result"
    }
   ],
   "source": [
    "len(elements)"
   ]
  },
  {
   "cell_type": "code",
   "execution_count": 16,
   "id": "509876f0",
   "metadata": {},
   "outputs": [
    {
     "data": {
      "text/plain": [
       "120"
      ]
     },
     "execution_count": 16,
     "metadata": {},
     "output_type": "execute_result"
    }
   ],
   "source": [
    "len(tree.xpath('//*[@id=\"__next\"]/section/main/div/div/div/div/a/div/div/div/span'))"
   ]
  },
  {
   "cell_type": "code",
   "execution_count": 18,
   "id": "f0e77630",
   "metadata": {},
   "outputs": [
    {
     "data": {
      "text/plain": [
       "'622'"
      ]
     },
     "execution_count": 18,
     "metadata": {},
     "output_type": "execute_result"
    }
   ],
   "source": [
    "tree.xpath('//*[@id=\"__next\"]/section/main/div/div/div/div/a/div/div/div/span')[1].text"
   ]
  },
  {
   "cell_type": "markdown",
   "id": "702970f9",
   "metadata": {},
   "source": [
    "### 规范的做法"
   ]
  },
  {
   "cell_type": "code",
   "execution_count": 23,
   "id": "afc25d74",
   "metadata": {},
   "outputs": [],
   "source": [
    "video_list = tree.xpath('//main/div/div[contains(@class, \"grid\")]')[0]"
   ]
  },
  {
   "cell_type": "code",
   "execution_count": 25,
   "id": "e17f64fd",
   "metadata": {},
   "outputs": [],
   "source": [
    "video_list_content = video_list.xpath('./div[contains(@class, \"flex\")]')"
   ]
  },
  {
   "cell_type": "code",
   "execution_count": 26,
   "id": "8af0c270",
   "metadata": {},
   "outputs": [],
   "source": [
    "video_detail = video_list_content[0]"
   ]
  },
  {
   "cell_type": "code",
   "execution_count": 28,
   "id": "fd9c1894",
   "metadata": {},
   "outputs": [],
   "source": [
    "video_title = video_detail.xpath('./div/div/a/span/text()')"
   ]
  },
  {
   "cell_type": "code",
   "execution_count": 29,
   "id": "06d3577e",
   "metadata": {},
   "outputs": [
    {
     "data": {
      "text/plain": [
       "['胜加20年，转身看未来']"
      ]
     },
     "execution_count": 29,
     "metadata": {},
     "output_type": "execute_result"
    }
   ],
   "source": [
    "video_title"
   ]
  },
  {
   "cell_type": "code",
   "execution_count": 35,
   "id": "d06bc2d4",
   "metadata": {},
   "outputs": [],
   "source": [
    "video_play_count = video_detail.xpath('./div/a/div/div/div[1]/span/text()')"
   ]
  },
  {
   "cell_type": "code",
   "execution_count": 36,
   "id": "85f75412",
   "metadata": {},
   "outputs": [],
   "source": [
    "video_prise_count = video_detail.xpath('./div/a/div/div/div[2]/span/text()')"
   ]
  },
  {
   "cell_type": "code",
   "execution_count": 37,
   "id": "93631815",
   "metadata": {},
   "outputs": [
    {
     "data": {
      "text/plain": [
       "['8w']"
      ]
     },
     "execution_count": 37,
     "metadata": {},
     "output_type": "execute_result"
    }
   ],
   "source": [
    "video_play_count"
   ]
  },
  {
   "cell_type": "code",
   "execution_count": 38,
   "id": "198f1497",
   "metadata": {},
   "outputs": [
    {
     "data": {
      "text/plain": [
       "['622']"
      ]
     },
     "execution_count": 38,
     "metadata": {},
     "output_type": "execute_result"
    }
   ],
   "source": [
    "video_prise_count"
   ]
  },
  {
   "cell_type": "markdown",
   "id": "8316ee23",
   "metadata": {},
   "source": [
    "### 整合一下"
   ]
  },
  {
   "cell_type": "code",
   "execution_count": 39,
   "id": "a0a50cec",
   "metadata": {},
   "outputs": [
    {
     "name": "stdout",
     "output_type": "stream",
     "text": [
      "['胜加20年，转身看未来'] ['8w'] ['622']\n",
      "['农夫山泉·茶派X陆仙人《从凡人走成仙人》'] ['15.2w'] ['1219']\n",
      "['COP15（2022）上海宣传片'] ['13.6w'] ['1092']\n",
      "['WeChat Pay | 小店自有力'] ['4.9w'] ['378']\n",
      "['100多个白嫖资源网站，给你最全套的服务'] ['14.8w'] ['1507']\n",
      "['哔哩哔哩寻光计划特别纪录《寻光》'] ['13.6w'] ['1091']\n",
      "['你所见 即人间'] ['5w'] ['398']\n",
      "['Achill-转转「我根本不关心中国足球」'] ['2.9w'] ['201']\n",
      "['新西兰脑洞宣传！《来吧我的梦》'] ['4.7w'] ['339']\n",
      "['抖音非遗项目TVC 千载不难逢'] ['12.8w'] ['1016']\n",
      "['仙都奇缘 | 文旅宣传片'] ['11.1w'] ['876']\n",
      "['【干货向】三个小技巧，帮你选到完美配乐!'] ['5.8w'] ['707']\n",
      "['The 3 BMW Launch DC'] ['8.3w'] ['656']\n",
      "['下一站！世界杯决赛球场——卢塞尔球场'] ['6.8w'] ['533']\n",
      "['一条网贷广告的诞生'] ['15.5w'] ['1265']\n",
      "['《新视界，新世界》 广视4K超高清视频征评'] ['5w'] ['385']\n",
      "['不用画面，做个励志混剪'] ['33.7w'] ['4045']\n",
      "['FACEBOOK - Its Your World'] ['3.1w'] ['232']\n",
      "['纵享丝滑！完美镜头《一顺到底》'] ['5.4w'] ['431']\n",
      "['Film Pictures vol.1“晨雾”'] ['4.1w'] ['315']\n",
      "['吉利汽车 创意广告 耗时40天 2022年7月'] ['5.1w'] ['405']\n",
      "['Apple 冬日暖心广告《我是最棒的》'] ['10.9w'] ['859']\n",
      "['滇西：连接万物的超级阶梯！ | 《围城随笔》旅行纪录片第9集'] ['1.7w'] ['140']\n",
      "['日式广告的浪漫《一分钟的四季轮回》'] ['7.2w'] ['561']\n",
      "['忘情一刻 I 小米13'] ['2.6w'] ['185']\n",
      "['吉利几何 创意广告 耗时45天 2022年11月'] ['3.1w'] ['244']\n",
      "['发现成都之美'] ['7w'] ['547']\n",
      "['INCITY丨宁波鄞州印象城'] ['6.5w'] ['513']\n",
      "['超温馨的风景人文短片《四季人生》'] ['2.4w'] ['173']\n",
      "['最丧的2022年'] ['5.5w'] ['432']\n",
      "['2.5D动画，2.5DMG动画，APP动画制作，互联网动画介绍'] ['1w'] ['51']\n",
      "['总要去趟川西吧！「川西旅拍」我梦寐以求是真爱与自由'] ['4.7w'] ['375']\n",
      "['圣诞微缩移轴摄影《小人国的上帝》'] ['2.4w'] ['186']\n",
      "['世界杯短片电影《远征》'] ['10.1w'] ['806']\n",
      "['度小满【放心去热爱】世界杯品牌TVC'] ['4.5w'] ['333']\n",
      "['生活的交响'] ['3w'] ['228']\n",
      "['SNL爆笑恶搞短片《当你阳了》'] ['3.8w'] ['256']\n",
      "['必打卡！Lacoste经典广告《巨跃》'] ['2w'] ['165']\n",
      "['挑战2小时\"单兵单灯单镜头\"完成TVC级咖啡短片【含幕后花絮】'] ['2.9w'] ['239']\n",
      "['苏州城市宣传片'] ['12.2w'] ['760']\n",
      "['【拉片干货】 |《聚无不胜》宣传片综合分析'] ['8w'] ['631']\n",
      "['怎么提升你视频的B格？'] ['44.9w'] ['4962']\n",
      "['一叶子，纯净从不要开始（dir)'] ['13.5w'] ['1084']\n",
      "['vivo X90 撒贝宁&何同学'] ['12.1w'] ['963']\n",
      "['伊利-为热爱上场-导演版'] ['7112'] ['41']\n",
      "['累了，就回家吧！'] ['26.3w'] ['2116']\n",
      "['「分享」如何有效运用音效库剪辑质感广告？'] ['12.9w'] ['1048']\n",
      "['为什么《星际穿越》的配乐，你一听就想哭？【银屏系漫游指南】'] ['4.8w'] ['387']\n",
      "['踢不烂的故事'] ['88.8w'] ['1.3w']\n",
      "['Apple广告《三分钟》 陈可辛导演 2018春节'] ['30.2w'] ['2428']\n",
      "['考研人都看哭了《那些奋斗的日子》'] ['2.2w'] ['182']\n",
      "['keep x 中国青年报 ｜小手套暖冬公益短片《打雪仗》！'] ['2w'] ['131']\n",
      "['央视宣传片《我是谁》'] ['92.9w'] ['7437']\n",
      "['这支短片真的太舒服了《圆圈》'] ['24.4w'] ['1962']\n",
      "[\"Woman's Life｜这是你的故事\"] ['81.4w'] ['6665']\n",
      "['宝矿力一镜到底梦幻广告《逆向青春》'] ['53.9w'] ['4325']\n",
      "['同程网微电影《回家》'] ['25.5w'] ['2046']\n",
      "['疯狂小杨哥'] ['16.8w'] ['1348']\n",
      "['北京光影'] ['2.8w'] ['225']\n",
      "['田园村居图丨用 Mavic 3 拍出一副中国水墨画'] ['3045'] ['19']\n"
     ]
    }
   ],
   "source": [
    "for video in video_list_content:\n",
    "    video_title = video.xpath('./div/div/a/span/text()')\n",
    "    video_play_count = video.xpath('./div/a/div/div/div[1]/span/text()')\n",
    "    video_prise_count = video.xpath('./div/a/div/div/div[2]/span/text()')\n",
    "    \n",
    "    print(video_title, video_play_count, video_prise_count)\n",
    "    "
   ]
  }
 ],
 "metadata": {
  "kernelspec": {
   "display_name": "Python 3",
   "language": "python",
   "name": "python3"
  },
  "language_info": {
   "codemirror_mode": {
    "name": "ipython",
    "version": 3
   },
   "file_extension": ".py",
   "mimetype": "text/x-python",
   "name": "python",
   "nbconvert_exporter": "python",
   "pygments_lexer": "ipython3",
   "version": "3.9.0"
  }
 },
 "nbformat": 4,
 "nbformat_minor": 5
}
