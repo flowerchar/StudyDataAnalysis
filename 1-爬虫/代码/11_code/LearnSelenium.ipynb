{
 "cells": [
  {
   "cell_type": "code",
   "execution_count": 1,
   "id": "0d37b320",
   "metadata": {},
   "outputs": [],
   "source": [
    "from selenium import webdriver"
   ]
  },
  {
   "cell_type": "markdown",
   "id": "36a133eb",
   "metadata": {},
   "source": [
    "### chromedriver 路径两个地方，一个是系统环境变量，另外就是当前目录"
   ]
  },
  {
   "cell_type": "code",
   "execution_count": 3,
   "id": "3a9f36eb",
   "metadata": {},
   "outputs": [],
   "source": [
    "driver = webdriver.Chrome()"
   ]
  },
  {
   "cell_type": "code",
   "execution_count": 4,
   "id": "e9501c4e",
   "metadata": {},
   "outputs": [],
   "source": [
    "url = \"https://www.xinpianchang.com/discover/article-0-0-all-all-0-0-hot\""
   ]
  },
  {
   "cell_type": "markdown",
   "id": "5f7eaa3e",
   "metadata": {},
   "source": [
    "### 打开页面的API"
   ]
  },
  {
   "cell_type": "code",
   "execution_count": 5,
   "id": "3de61fb8",
   "metadata": {},
   "outputs": [],
   "source": [
    "driver.get(url)"
   ]
  },
  {
   "cell_type": "markdown",
   "id": "f0876efe",
   "metadata": {},
   "source": [
    "#### 再次打开一个页面"
   ]
  },
  {
   "cell_type": "code",
   "execution_count": 6,
   "id": "fbd8c1af",
   "metadata": {},
   "outputs": [],
   "source": [
    "url2 = \"https://www.baidu.com\""
   ]
  },
  {
   "cell_type": "code",
   "execution_count": 7,
   "id": "ab67ebe6",
   "metadata": {},
   "outputs": [],
   "source": [
    "driver.get(url2)"
   ]
  },
  {
   "cell_type": "markdown",
   "id": "7d83354f",
   "metadata": {},
   "source": [
    "### 回到上一个页面"
   ]
  },
  {
   "cell_type": "code",
   "execution_count": 8,
   "id": "48f1d4a6",
   "metadata": {},
   "outputs": [],
   "source": [
    "driver.back()"
   ]
  },
  {
   "cell_type": "markdown",
   "id": "8fa06d17",
   "metadata": {},
   "source": [
    "### 前进到下一个页面"
   ]
  },
  {
   "cell_type": "code",
   "execution_count": 9,
   "id": "7beb57d1",
   "metadata": {},
   "outputs": [],
   "source": [
    "driver.forward()"
   ]
  },
  {
   "cell_type": "markdown",
   "id": "ac1ecd4c",
   "metadata": {},
   "source": [
    "### 和页面中的元素进行交互"
   ]
  },
  {
   "cell_type": "markdown",
   "id": "68703608",
   "metadata": {},
   "source": [
    "#### 1.找到元素\n",
    "#### 2.声明我们的操作"
   ]
  },
  {
   "cell_type": "code",
   "execution_count": 12,
   "id": "79f2f449",
   "metadata": {},
   "outputs": [],
   "source": [
    "element = driver.find_element(\"id\",\"kw\")"
   ]
  },
  {
   "cell_type": "markdown",
   "id": "e8838bfb",
   "metadata": {},
   "source": [
    "### 向输入框中  发送值"
   ]
  },
  {
   "cell_type": "code",
   "execution_count": 13,
   "id": "8971441c",
   "metadata": {},
   "outputs": [],
   "source": [
    "element.send_keys(\"爬虫\")"
   ]
  },
  {
   "cell_type": "code",
   "execution_count": 14,
   "id": "d30692dc",
   "metadata": {},
   "outputs": [],
   "source": [
    "element2 = driver.find_element(\"id\", \"su\")"
   ]
  },
  {
   "cell_type": "markdown",
   "id": "adb4f0cb",
   "metadata": {},
   "source": [
    "### 点击按钮"
   ]
  },
  {
   "cell_type": "code",
   "execution_count": 15,
   "id": "0ae1869a",
   "metadata": {},
   "outputs": [],
   "source": [
    "element2.click()"
   ]
  },
  {
   "cell_type": "markdown",
   "id": "964c447a",
   "metadata": {},
   "source": [
    "### 获取页面中的内容"
   ]
  },
  {
   "cell_type": "code",
   "execution_count": 17,
   "id": "51147c6f",
   "metadata": {},
   "outputs": [],
   "source": [
    "content = driver.page_source"
   ]
  },
  {
   "cell_type": "markdown",
   "id": "b7175507",
   "metadata": {},
   "source": [
    "### 关闭页面"
   ]
  },
  {
   "cell_type": "code",
   "execution_count": 18,
   "id": "5f2076ef",
   "metadata": {},
   "outputs": [],
   "source": [
    "driver.close()"
   ]
  },
  {
   "cell_type": "markdown",
   "id": "fc4054e7",
   "metadata": {},
   "source": [
    "### 还有没有其他API"
   ]
  },
  {
   "cell_type": "markdown",
   "id": "3cceb80c",
   "metadata": {},
   "source": [
    "#### cookie的API 这个是用来控制浏览器账号以及一些缓存的API\n",
    "#### 提供了很多API去获取页面中的各种元素   find_element 的规则，因为不是所有的元素都有id\n",
    "#### 提供了一些窗口切换的API  点击按钮，跳转新的页面出来，点击按钮，弹窗口"
   ]
  }
 ],
 "metadata": {
  "kernelspec": {
   "display_name": "Python 3 (ipykernel)",
   "language": "python",
   "name": "python3"
  },
  "language_info": {
   "codemirror_mode": {
    "name": "ipython",
    "version": 3
   },
   "file_extension": ".py",
   "mimetype": "text/x-python",
   "name": "python",
   "nbconvert_exporter": "python",
   "pygments_lexer": "ipython3",
   "version": "3.9.7"
  }
 },
 "nbformat": 4,
 "nbformat_minor": 5
}
