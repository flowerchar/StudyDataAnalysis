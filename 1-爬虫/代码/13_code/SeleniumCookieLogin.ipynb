{
 "cells": [
  {
   "cell_type": "code",
   "execution_count": 15,
   "id": "4e670c0d",
   "metadata": {},
   "outputs": [],
   "source": [
    "from selenium import webdriver"
   ]
  },
  {
   "cell_type": "code",
   "execution_count": 16,
   "id": "aa957d75",
   "metadata": {},
   "outputs": [],
   "source": [
    "url = \"https://passport.xinpianchang.com/login?redirect_uri=https%3A%2F%2Fwww.xinpianchang.com%2F\""
   ]
  },
  {
   "cell_type": "code",
   "execution_count": 17,
   "id": "baff0792",
   "metadata": {},
   "outputs": [],
   "source": [
    "driver = webdriver.Chrome()"
   ]
  },
  {
   "cell_type": "code",
   "execution_count": 18,
   "id": "16475777",
   "metadata": {},
   "outputs": [],
   "source": [
    "driver.get(url)"
   ]
  },
  {
   "cell_type": "markdown",
   "id": "61922094",
   "metadata": {},
   "source": [
    "### 读取我们存储在文件中的Cookie"
   ]
  },
  {
   "cell_type": "code",
   "execution_count": 19,
   "id": "bccc4386",
   "metadata": {},
   "outputs": [],
   "source": [
    "with open(\"cookies.txt\", \"r\", encoding=\"utf-8\") as file:\n",
    "    cookies_str = file.read()"
   ]
  },
  {
   "cell_type": "markdown",
   "id": "7f860e5f",
   "metadata": {},
   "source": [
    "### 使用json将字符串转换为json格式的数据"
   ]
  },
  {
   "cell_type": "code",
   "execution_count": 20,
   "id": "ec8b64d8",
   "metadata": {},
   "outputs": [],
   "source": [
    "import json"
   ]
  },
  {
   "cell_type": "code",
   "execution_count": 21,
   "id": "c487006b",
   "metadata": {},
   "outputs": [],
   "source": [
    "cookies = json.loads(cookies_str)"
   ]
  },
  {
   "cell_type": "markdown",
   "id": "14481487",
   "metadata": {},
   "source": [
    "### 向浏览器中注入cookie"
   ]
  },
  {
   "cell_type": "code",
   "execution_count": 23,
   "id": "c730d771",
   "metadata": {},
   "outputs": [
    {
     "name": "stdout",
     "output_type": "stream",
     "text": [
      "Message: invalid cookie domain: Cookie 'domain' mismatch\n",
      "  (Session info: chrome=107.0.5304.88)\n",
      "Stacktrace:\n",
      "Backtrace:\n",
      "\tOrdinal0 [0x0058ACD3+2075859]\n",
      "\tOrdinal0 [0x0051EE61+1633889]\n",
      "\tOrdinal0 [0x0041B7BD+571325]\n",
      "\tOrdinal0 [0x0048A45B+1025115]\n",
      "\tOrdinal0 [0x0046731C+881436]\n",
      "\tOrdinal0 [0x0047B56A+963946]\n",
      "\tOrdinal0 [0x00467136+880950]\n",
      "\tOrdinal0 [0x0043FEFD+720637]\n",
      "\tOrdinal0 [0x00440F3F+724799]\n",
      "\tGetHandleVerifier [0x0083EED2+2769538]\n",
      "\tGetHandleVerifier [0x00830D95+2711877]\n",
      "\tGetHandleVerifier [0x0061A03A+521194]\n",
      "\tGetHandleVerifier [0x00618DA0+516432]\n",
      "\tOrdinal0 [0x0052682C+1665068]\n",
      "\tOrdinal0 [0x0052B128+1683752]\n",
      "\tOrdinal0 [0x0052B215+1683989]\n",
      "\tOrdinal0 [0x00536484+1729668]\n",
      "\tBaseThreadInitThunk [0x75A1FEF9+25]\n",
      "\tRtlGetAppContainerNamedObjectPath [0x774F7BBE+286]\n",
      "\tRtlGetAppContainerNamedObjectPath [0x774F7B8E+238]\n",
      "\n"
     ]
    }
   ],
   "source": [
    "for cookie in cookies:\n",
    "    try:\n",
    "        driver.add_cookie(cookie)\n",
    "    except Exception as e:\n",
    "        print(e)"
   ]
  },
  {
   "cell_type": "code",
   "execution_count": 24,
   "id": "5ac02ee2",
   "metadata": {},
   "outputs": [],
   "source": [
    "driver.get(\"https://www.xinpianchang.com/\")"
   ]
  },
  {
   "cell_type": "markdown",
   "id": "0dbe9682",
   "metadata": {},
   "source": [
    "### 关闭浏览器"
   ]
  },
  {
   "cell_type": "code",
   "execution_count": 14,
   "id": "607761ae",
   "metadata": {},
   "outputs": [],
   "source": [
    "driver.close()"
   ]
  }
 ],
 "metadata": {
  "kernelspec": {
   "display_name": "Python 3 (ipykernel)",
   "language": "python",
   "name": "python3"
  },
  "language_info": {
   "codemirror_mode": {
    "name": "ipython",
    "version": 3
   },
   "file_extension": ".py",
   "mimetype": "text/x-python",
   "name": "python",
   "nbconvert_exporter": "python",
   "pygments_lexer": "ipython3",
   "version": "3.9.7"
  }
 },
 "nbformat": 4,
 "nbformat_minor": 5
}
