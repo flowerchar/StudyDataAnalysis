{
 "cells": [
  {
   "cell_type": "code",
   "execution_count": 12,
   "id": "3989a7ba",
   "metadata": {},
   "outputs": [],
   "source": [
    "from selenium import webdriver"
   ]
  },
  {
   "cell_type": "code",
   "execution_count": 13,
   "id": "8e6f1d97",
   "metadata": {},
   "outputs": [],
   "source": [
    "driver = webdriver.Chrome()"
   ]
  },
  {
   "cell_type": "code",
   "execution_count": 14,
   "id": "248b3df7",
   "metadata": {},
   "outputs": [],
   "source": [
    "url = \"https://passport.xinpianchang.com/login?redirect_uri=https%3A%2F%2Fwww.xinpianchang.com%2Fdiscover%2Farticle-0-0-all-all-0-0-hot\""
   ]
  },
  {
   "cell_type": "code",
   "execution_count": 15,
   "id": "00a5181a",
   "metadata": {},
   "outputs": [],
   "source": [
    "driver.get(url)"
   ]
  },
  {
   "cell_type": "markdown",
   "id": "1eaff109",
   "metadata": {},
   "source": [
    "### 打开页面之后，手动进行登录"
   ]
  },
  {
   "cell_type": "markdown",
   "id": "1341da4c",
   "metadata": {},
   "source": [
    "### 登录完成后 提取Cookie"
   ]
  },
  {
   "cell_type": "code",
   "execution_count": 16,
   "id": "cbf8b913",
   "metadata": {},
   "outputs": [],
   "source": [
    "cookies = driver.get_cookies()"
   ]
  },
  {
   "cell_type": "markdown",
   "id": "19112ea5",
   "metadata": {},
   "source": [
    "### 将数据进行json的序列化，转换成文本进行存储"
   ]
  },
  {
   "cell_type": "code",
   "execution_count": 17,
   "id": "1b84b913",
   "metadata": {},
   "outputs": [],
   "source": [
    "import json"
   ]
  },
  {
   "cell_type": "code",
   "execution_count": 18,
   "id": "1b49f72b",
   "metadata": {},
   "outputs": [],
   "source": [
    "cookies_str = json.dumps(cookies)"
   ]
  },
  {
   "cell_type": "markdown",
   "id": "1d666616",
   "metadata": {},
   "source": [
    "### 使用文件存储，将字符串存到文件中"
   ]
  },
  {
   "cell_type": "code",
   "execution_count": 19,
   "id": "9c061471",
   "metadata": {},
   "outputs": [],
   "source": [
    "with open(\"cookies.txt\", \"w\", encoding=\"utf-8\") as file:\n",
    "    file.write(cookies_str)"
   ]
  }
 ],
 "metadata": {
  "kernelspec": {
   "display_name": "Python 3",
   "language": "python",
   "name": "python3"
  },
  "language_info": {
   "codemirror_mode": {
    "name": "ipython",
    "version": 3
   },
   "file_extension": ".py",
   "mimetype": "text/x-python",
   "name": "python",
   "nbconvert_exporter": "python",
   "pygments_lexer": "ipython3",
   "version": "3.9.0"
  }
 },
 "nbformat": 4,
 "nbformat_minor": 5
}
